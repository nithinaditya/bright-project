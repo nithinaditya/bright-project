{
 "cells": [
  {
   "cell_type": "code",
   "execution_count": 1,
   "id": "f33cdc2c",
   "metadata": {},
   "outputs": [],
   "source": [
    "#imports\n",
    "import numpy as np\n",
    "import pandas as pd\n",
    "import matplotlib.pyplot as plt\n",
    "import pickle as pkl"
   ]
  },
  {
   "cell_type": "code",
   "execution_count": 2,
   "id": "71a49ec3",
   "metadata": {},
   "outputs": [
    {
     "name": "stderr",
     "output_type": "stream",
     "text": [
      "C:\\Users\\nithi\\anaconda\\lib\\site-packages\\scipy\\__init__.py:146: UserWarning: A NumPy version >=1.16.5 and <1.23.0 is required for this version of SciPy (detected version 1.25.2\n",
      "  warnings.warn(f\"A NumPy version >={np_minversion} and <{np_maxversion}\"\n"
     ]
    }
   ],
   "source": [
    "classifier = pkl.load(open('rfc.pkl', 'rb'))\n",
    "regressor = pkl.load(open('xgb_reg.pkl', 'rb'))"
   ]
  },
  {
   "cell_type": "code",
   "execution_count": 3,
   "id": "094dd449",
   "metadata": {},
   "outputs": [
    {
     "data": {
      "text/plain": [
       "sklearn.ensemble._forest.RandomForestClassifier"
      ]
     },
     "execution_count": 3,
     "metadata": {},
     "output_type": "execute_result"
    }
   ],
   "source": [
    "type(classifier)"
   ]
  },
  {
   "cell_type": "code",
   "execution_count": 4,
   "id": "6b84314a",
   "metadata": {},
   "outputs": [
    {
     "data": {
      "text/plain": [
       "xgboost.sklearn.XGBRegressor"
      ]
     },
     "execution_count": 4,
     "metadata": {},
     "output_type": "execute_result"
    }
   ],
   "source": [
    "type(regressor)"
   ]
  },
  {
   "cell_type": "code",
   "execution_count": 5,
   "id": "cdde2928",
   "metadata": {},
   "outputs": [],
   "source": [
    "df = pd.read_csv('merged.csv', index_col = [0])"
   ]
  },
  {
   "cell_type": "code",
   "execution_count": 6,
   "id": "b000d617",
   "metadata": {},
   "outputs": [
    {
     "data": {
      "text/plain": [
       "Index(['FlightDate', 'Quarter', 'Year', 'Month', 'Origin', 'Dest',\n",
       "       'DayofMonth', 'DepTime', 'DepDel15', 'CRSDepTime', 'DepDelayMinutes',\n",
       "       'OriginAirportID', 'DestAirportID', 'ArrTime', 'CRSArrTime', 'ArrDel15',\n",
       "       'ArrDelayMinutes', 'rounded_time', 'windspeedKmph', 'winddirDegree',\n",
       "       'weatherCode', 'precipMM', 'visibility', 'pressure', 'cloudcover',\n",
       "       'DewPointF', 'WindGustKmph', 'tempF', 'WindChillF', 'humidity', 'date',\n",
       "       'time', 'airport_code'],\n",
       "      dtype='object')"
      ]
     },
     "execution_count": 6,
     "metadata": {},
     "output_type": "execute_result"
    }
   ],
   "source": [
    "df.columns"
   ]
  },
  {
   "cell_type": "code",
   "execution_count": 7,
   "id": "38e8eb9a",
   "metadata": {},
   "outputs": [],
   "source": [
    "df = df.drop(columns = ['airport_code','rounded_time','date','FlightDate','OriginAirportID', 'DestAirportID','WindChillF', 'CRSArrTime', 'ArrTime', 'time', 'Quarter'])"
   ]
  },
  {
   "cell_type": "code",
   "execution_count": 8,
   "id": "bd79b103",
   "metadata": {},
   "outputs": [
    {
     "data": {
      "text/plain": [
       "Index(['Year', 'Month', 'Origin', 'Dest', 'DayofMonth', 'DepTime', 'DepDel15',\n",
       "       'CRSDepTime', 'DepDelayMinutes', 'ArrDel15', 'ArrDelayMinutes',\n",
       "       'windspeedKmph', 'winddirDegree', 'weatherCode', 'precipMM',\n",
       "       'visibility', 'pressure', 'cloudcover', 'DewPointF', 'WindGustKmph',\n",
       "       'tempF', 'humidity'],\n",
       "      dtype='object')"
      ]
     },
     "execution_count": 8,
     "metadata": {},
     "output_type": "execute_result"
    }
   ],
   "source": [
    "df.columns"
   ]
  },
  {
   "cell_type": "code",
   "execution_count": 9,
   "id": "697f5294",
   "metadata": {},
   "outputs": [],
   "source": [
    "from sklearn.preprocessing import LabelEncoder\n",
    "labelEncoder = LabelEncoder()\n",
    "df[\"Origin\"] = labelEncoder.fit_transform(df[\"Origin\"])\n",
    "df[\"Dest\"] = labelEncoder.fit_transform(df[\"Dest\"])"
   ]
  },
  {
   "cell_type": "code",
   "execution_count": 10,
   "id": "3593f0e7",
   "metadata": {},
   "outputs": [],
   "source": [
    "X = df.drop(columns = ['ArrDel15', 'ArrDelayMinutes'])"
   ]
  },
  {
   "cell_type": "code",
   "execution_count": 11,
   "id": "bcd3f211",
   "metadata": {},
   "outputs": [],
   "source": [
    "y = df[['ArrDel15', 'ArrDelayMinutes']]"
   ]
  },
  {
   "cell_type": "code",
   "execution_count": 12,
   "id": "5ee5fe66",
   "metadata": {
    "scrolled": true
   },
   "outputs": [
    {
     "data": {
      "text/html": [
       "<div>\n",
       "<style scoped>\n",
       "    .dataframe tbody tr th:only-of-type {\n",
       "        vertical-align: middle;\n",
       "    }\n",
       "\n",
       "    .dataframe tbody tr th {\n",
       "        vertical-align: top;\n",
       "    }\n",
       "\n",
       "    .dataframe thead th {\n",
       "        text-align: right;\n",
       "    }\n",
       "</style>\n",
       "<table border=\"1\" class=\"dataframe\">\n",
       "  <thead>\n",
       "    <tr style=\"text-align: right;\">\n",
       "      <th></th>\n",
       "      <th>ArrDel15</th>\n",
       "      <th>ArrDelayMinutes</th>\n",
       "    </tr>\n",
       "  </thead>\n",
       "  <tbody>\n",
       "    <tr>\n",
       "      <th>0</th>\n",
       "      <td>0.0</td>\n",
       "      <td>8.0</td>\n",
       "    </tr>\n",
       "    <tr>\n",
       "      <th>1</th>\n",
       "      <td>1.0</td>\n",
       "      <td>24.0</td>\n",
       "    </tr>\n",
       "    <tr>\n",
       "      <th>2</th>\n",
       "      <td>0.0</td>\n",
       "      <td>0.0</td>\n",
       "    </tr>\n",
       "    <tr>\n",
       "      <th>3</th>\n",
       "      <td>0.0</td>\n",
       "      <td>10.0</td>\n",
       "    </tr>\n",
       "    <tr>\n",
       "      <th>4</th>\n",
       "      <td>0.0</td>\n",
       "      <td>0.0</td>\n",
       "    </tr>\n",
       "  </tbody>\n",
       "</table>\n",
       "</div>"
      ],
      "text/plain": [
       "   ArrDel15  ArrDelayMinutes\n",
       "0       0.0              8.0\n",
       "1       1.0             24.0\n",
       "2       0.0              0.0\n",
       "3       0.0             10.0\n",
       "4       0.0              0.0"
      ]
     },
     "execution_count": 12,
     "metadata": {},
     "output_type": "execute_result"
    }
   ],
   "source": [
    "y.head()"
   ]
  },
  {
   "cell_type": "code",
   "execution_count": 15,
   "id": "9982c8e5",
   "metadata": {},
   "outputs": [],
   "source": [
    "from sklearn.metrics import accuracy_score,  mean_absolute_error, classification_report,  r2_score, mean_absolute_error, mean_squared_error"
   ]
  },
  {
   "cell_type": "code",
   "execution_count": 20,
   "id": "28e384c1",
   "metadata": {},
   "outputs": [],
   "source": [
    "def run_models(X, y):\n",
    "    #Classification\n",
    "    y_pred = classifier.predict(X)\n",
    "    print(\"Accuracy of Classification: \", accuracy_score(y_pred, y['ArrDel15']))\n",
    "    print(classification_report(y_pred, y['ArrDel15']))\n",
    "    df['y_pred'] = y_pred\n",
    "    \n",
    "    #Regression\n",
    "    reg_df = df[df['y_pred'] == 1.0]\n",
    "    #reg_df = reg_df.drop('y_pred', axis = 1)\n",
    "    reg_df = reg_df[reg_df['ArrDelayMinutes'] > 15]\n",
    "    X = reg_df.drop(columns = ['ArrDel15', 'ArrDelayMinutes', 'y_pred'])\n",
    "    y = reg_df[['ArrDel15', 'ArrDelayMinutes']]\n",
    "    ypred = regressor.predict(X)\n",
    "    print(\"mae: \", mean_absolute_error(ypred, y['ArrDelayMinutes']))\n",
    "    print(\"mse: \", mean_squared_error(ypred, y['ArrDelayMinutes']))\n",
    "    mse = mean_squared_error(ypred, y['ArrDelayMinutes'])\n",
    "    rmse = mse ** 0.5  \n",
    "    print(\"RMSE: \", rmse)\n",
    "    print(\"R2 score: \", r2_score(ypred, y['ArrDelayMinutes']))\n",
    "    \n",
    "    #reg_df.rename(columns = {'y_pred' : 'ArrDel15 (Predicted)'})\n",
    "    reg_df['ArrDelayMinutes (Predicted)'] = ypred\n",
    "    print(reg_df[['y_pred', 'ArrDelayMinutes (Predicted)']])\n",
    "    #print(classification_report(ypred, y['ArrDelayMinutes']))\n",
    "    return reg_df"
   ]
  },
  {
   "cell_type": "code",
   "execution_count": 21,
   "id": "4c4955c3",
   "metadata": {
    "scrolled": true
   },
   "outputs": [
    {
     "name": "stdout",
     "output_type": "stream",
     "text": [
      "Accuracy of Classification:  0.9854451021967381\n",
      "              precision    recall  f1-score   support\n",
      "\n",
      "         0.0       0.98      1.00      0.99   1435942\n",
      "         1.0       0.99      0.94      0.97    404332\n",
      "\n",
      "    accuracy                           0.99   1840274\n",
      "   macro avg       0.99      0.97      0.98   1840274\n",
      "weighted avg       0.99      0.99      0.99   1840274\n",
      "\n",
      "mae:  11.13045191725452\n",
      "mse:  256.3153652072119\n",
      "RMSE:  16.009852129461155\n",
      "R2 score:  0.9490325601539928\n",
      "         y_pred  ArrDelayMinutes (Predicted)\n",
      "1           1.0                    33.487461\n",
      "9           1.0                    36.690868\n",
      "13          1.0                    32.461235\n",
      "14          1.0                    28.116556\n",
      "17          1.0                    24.995829\n",
      "...         ...                          ...\n",
      "1840262     1.0                    62.042576\n",
      "1840264     1.0                    30.801378\n",
      "1840265     1.0                    50.979843\n",
      "1840271     1.0                    30.965372\n",
      "1840272     1.0                    34.554756\n",
      "\n",
      "[368711 rows x 2 columns]\n"
     ]
    }
   ],
   "source": [
    "result = run_models(X, y)"
   ]
  },
  {
   "cell_type": "code",
   "execution_count": 22,
   "id": "f0f3fc42",
   "metadata": {
    "scrolled": false
   },
   "outputs": [
    {
     "data": {
      "text/html": [
       "<div>\n",
       "<style scoped>\n",
       "    .dataframe tbody tr th:only-of-type {\n",
       "        vertical-align: middle;\n",
       "    }\n",
       "\n",
       "    .dataframe tbody tr th {\n",
       "        vertical-align: top;\n",
       "    }\n",
       "\n",
       "    .dataframe thead th {\n",
       "        text-align: right;\n",
       "    }\n",
       "</style>\n",
       "<table border=\"1\" class=\"dataframe\">\n",
       "  <thead>\n",
       "    <tr style=\"text-align: right;\">\n",
       "      <th></th>\n",
       "      <th>y_pred</th>\n",
       "      <th>ArrDelayMinutes (Predicted)</th>\n",
       "    </tr>\n",
       "  </thead>\n",
       "  <tbody>\n",
       "    <tr>\n",
       "      <th>1</th>\n",
       "      <td>1.0</td>\n",
       "      <td>33.487461</td>\n",
       "    </tr>\n",
       "    <tr>\n",
       "      <th>9</th>\n",
       "      <td>1.0</td>\n",
       "      <td>36.690868</td>\n",
       "    </tr>\n",
       "    <tr>\n",
       "      <th>13</th>\n",
       "      <td>1.0</td>\n",
       "      <td>32.461235</td>\n",
       "    </tr>\n",
       "    <tr>\n",
       "      <th>14</th>\n",
       "      <td>1.0</td>\n",
       "      <td>28.116556</td>\n",
       "    </tr>\n",
       "    <tr>\n",
       "      <th>17</th>\n",
       "      <td>1.0</td>\n",
       "      <td>24.995829</td>\n",
       "    </tr>\n",
       "    <tr>\n",
       "      <th>...</th>\n",
       "      <td>...</td>\n",
       "      <td>...</td>\n",
       "    </tr>\n",
       "    <tr>\n",
       "      <th>1840262</th>\n",
       "      <td>1.0</td>\n",
       "      <td>62.042576</td>\n",
       "    </tr>\n",
       "    <tr>\n",
       "      <th>1840264</th>\n",
       "      <td>1.0</td>\n",
       "      <td>30.801378</td>\n",
       "    </tr>\n",
       "    <tr>\n",
       "      <th>1840265</th>\n",
       "      <td>1.0</td>\n",
       "      <td>50.979843</td>\n",
       "    </tr>\n",
       "    <tr>\n",
       "      <th>1840271</th>\n",
       "      <td>1.0</td>\n",
       "      <td>30.965372</td>\n",
       "    </tr>\n",
       "    <tr>\n",
       "      <th>1840272</th>\n",
       "      <td>1.0</td>\n",
       "      <td>34.554756</td>\n",
       "    </tr>\n",
       "  </tbody>\n",
       "</table>\n",
       "<p>368711 rows × 2 columns</p>\n",
       "</div>"
      ],
      "text/plain": [
       "         y_pred  ArrDelayMinutes (Predicted)\n",
       "1           1.0                    33.487461\n",
       "9           1.0                    36.690868\n",
       "13          1.0                    32.461235\n",
       "14          1.0                    28.116556\n",
       "17          1.0                    24.995829\n",
       "...         ...                          ...\n",
       "1840262     1.0                    62.042576\n",
       "1840264     1.0                    30.801378\n",
       "1840265     1.0                    50.979843\n",
       "1840271     1.0                    30.965372\n",
       "1840272     1.0                    34.554756\n",
       "\n",
       "[368711 rows x 2 columns]"
      ]
     },
     "execution_count": 22,
     "metadata": {},
     "output_type": "execute_result"
    }
   ],
   "source": [
    "result[['y_pred', 'ArrDelayMinutes (Predicted)']]"
   ]
  },
  {
   "cell_type": "code",
   "execution_count": 23,
   "id": "fdf63af7",
   "metadata": {},
   "outputs": [
    {
     "data": {
      "text/html": [
       "<div>\n",
       "<style scoped>\n",
       "    .dataframe tbody tr th:only-of-type {\n",
       "        vertical-align: middle;\n",
       "    }\n",
       "\n",
       "    .dataframe tbody tr th {\n",
       "        vertical-align: top;\n",
       "    }\n",
       "\n",
       "    .dataframe thead th {\n",
       "        text-align: right;\n",
       "    }\n",
       "</style>\n",
       "<table border=\"1\" class=\"dataframe\">\n",
       "  <thead>\n",
       "    <tr style=\"text-align: right;\">\n",
       "      <th></th>\n",
       "      <th>Year</th>\n",
       "      <th>Month</th>\n",
       "      <th>Origin</th>\n",
       "      <th>Dest</th>\n",
       "      <th>DayofMonth</th>\n",
       "      <th>DepTime</th>\n",
       "      <th>DepDel15</th>\n",
       "      <th>CRSDepTime</th>\n",
       "      <th>DepDelayMinutes</th>\n",
       "      <th>ArrDel15</th>\n",
       "      <th>...</th>\n",
       "      <th>precipMM</th>\n",
       "      <th>visibility</th>\n",
       "      <th>pressure</th>\n",
       "      <th>cloudcover</th>\n",
       "      <th>DewPointF</th>\n",
       "      <th>WindGustKmph</th>\n",
       "      <th>tempF</th>\n",
       "      <th>humidity</th>\n",
       "      <th>y_pred</th>\n",
       "      <th>ArrDelayMinutes (Predicted)</th>\n",
       "    </tr>\n",
       "  </thead>\n",
       "  <tbody>\n",
       "    <tr>\n",
       "      <th>1</th>\n",
       "      <td>2016</td>\n",
       "      <td>1</td>\n",
       "      <td>13</td>\n",
       "      <td>14</td>\n",
       "      <td>1</td>\n",
       "      <td>759.0</td>\n",
       "      <td>1.0</td>\n",
       "      <td>724</td>\n",
       "      <td>35.0</td>\n",
       "      <td>1.0</td>\n",
       "      <td>...</td>\n",
       "      <td>0.0</td>\n",
       "      <td>10</td>\n",
       "      <td>1030</td>\n",
       "      <td>0</td>\n",
       "      <td>23</td>\n",
       "      <td>8</td>\n",
       "      <td>34</td>\n",
       "      <td>66</td>\n",
       "      <td>1.0</td>\n",
       "      <td>33.487461</td>\n",
       "    </tr>\n",
       "    <tr>\n",
       "      <th>9</th>\n",
       "      <td>2016</td>\n",
       "      <td>1</td>\n",
       "      <td>13</td>\n",
       "      <td>7</td>\n",
       "      <td>1</td>\n",
       "      <td>745.0</td>\n",
       "      <td>1.0</td>\n",
       "      <td>705</td>\n",
       "      <td>40.0</td>\n",
       "      <td>1.0</td>\n",
       "      <td>...</td>\n",
       "      <td>0.0</td>\n",
       "      <td>10</td>\n",
       "      <td>1030</td>\n",
       "      <td>0</td>\n",
       "      <td>23</td>\n",
       "      <td>8</td>\n",
       "      <td>34</td>\n",
       "      <td>66</td>\n",
       "      <td>1.0</td>\n",
       "      <td>36.690868</td>\n",
       "    </tr>\n",
       "    <tr>\n",
       "      <th>13</th>\n",
       "      <td>2016</td>\n",
       "      <td>1</td>\n",
       "      <td>13</td>\n",
       "      <td>8</td>\n",
       "      <td>2</td>\n",
       "      <td>720.0</td>\n",
       "      <td>1.0</td>\n",
       "      <td>655</td>\n",
       "      <td>25.0</td>\n",
       "      <td>1.0</td>\n",
       "      <td>...</td>\n",
       "      <td>0.0</td>\n",
       "      <td>10</td>\n",
       "      <td>1024</td>\n",
       "      <td>0</td>\n",
       "      <td>24</td>\n",
       "      <td>8</td>\n",
       "      <td>36</td>\n",
       "      <td>64</td>\n",
       "      <td>1.0</td>\n",
       "      <td>32.461235</td>\n",
       "    </tr>\n",
       "    <tr>\n",
       "      <th>14</th>\n",
       "      <td>2016</td>\n",
       "      <td>1</td>\n",
       "      <td>13</td>\n",
       "      <td>8</td>\n",
       "      <td>2</td>\n",
       "      <td>730.0</td>\n",
       "      <td>0.0</td>\n",
       "      <td>730</td>\n",
       "      <td>0.0</td>\n",
       "      <td>1.0</td>\n",
       "      <td>...</td>\n",
       "      <td>0.0</td>\n",
       "      <td>10</td>\n",
       "      <td>1024</td>\n",
       "      <td>0</td>\n",
       "      <td>24</td>\n",
       "      <td>8</td>\n",
       "      <td>36</td>\n",
       "      <td>64</td>\n",
       "      <td>1.0</td>\n",
       "      <td>28.116556</td>\n",
       "    </tr>\n",
       "    <tr>\n",
       "      <th>17</th>\n",
       "      <td>2016</td>\n",
       "      <td>1</td>\n",
       "      <td>13</td>\n",
       "      <td>0</td>\n",
       "      <td>2</td>\n",
       "      <td>745.0</td>\n",
       "      <td>0.0</td>\n",
       "      <td>745</td>\n",
       "      <td>0.0</td>\n",
       "      <td>1.0</td>\n",
       "      <td>...</td>\n",
       "      <td>0.0</td>\n",
       "      <td>10</td>\n",
       "      <td>1024</td>\n",
       "      <td>0</td>\n",
       "      <td>24</td>\n",
       "      <td>8</td>\n",
       "      <td>36</td>\n",
       "      <td>64</td>\n",
       "      <td>1.0</td>\n",
       "      <td>24.995829</td>\n",
       "    </tr>\n",
       "    <tr>\n",
       "      <th>...</th>\n",
       "      <td>...</td>\n",
       "      <td>...</td>\n",
       "      <td>...</td>\n",
       "      <td>...</td>\n",
       "      <td>...</td>\n",
       "      <td>...</td>\n",
       "      <td>...</td>\n",
       "      <td>...</td>\n",
       "      <td>...</td>\n",
       "      <td>...</td>\n",
       "      <td>...</td>\n",
       "      <td>...</td>\n",
       "      <td>...</td>\n",
       "      <td>...</td>\n",
       "      <td>...</td>\n",
       "      <td>...</td>\n",
       "      <td>...</td>\n",
       "      <td>...</td>\n",
       "      <td>...</td>\n",
       "      <td>...</td>\n",
       "      <td>...</td>\n",
       "    </tr>\n",
       "    <tr>\n",
       "      <th>1840262</th>\n",
       "      <td>2017</td>\n",
       "      <td>9</td>\n",
       "      <td>6</td>\n",
       "      <td>8</td>\n",
       "      <td>21</td>\n",
       "      <td>2358.0</td>\n",
       "      <td>1.0</td>\n",
       "      <td>2245</td>\n",
       "      <td>73.0</td>\n",
       "      <td>1.0</td>\n",
       "      <td>...</td>\n",
       "      <td>0.0</td>\n",
       "      <td>10</td>\n",
       "      <td>1015</td>\n",
       "      <td>96</td>\n",
       "      <td>64</td>\n",
       "      <td>26</td>\n",
       "      <td>72</td>\n",
       "      <td>75</td>\n",
       "      <td>1.0</td>\n",
       "      <td>62.042576</td>\n",
       "    </tr>\n",
       "    <tr>\n",
       "      <th>1840264</th>\n",
       "      <td>2017</td>\n",
       "      <td>9</td>\n",
       "      <td>9</td>\n",
       "      <td>6</td>\n",
       "      <td>22</td>\n",
       "      <td>2021.0</td>\n",
       "      <td>1.0</td>\n",
       "      <td>1954</td>\n",
       "      <td>27.0</td>\n",
       "      <td>1.0</td>\n",
       "      <td>...</td>\n",
       "      <td>0.6</td>\n",
       "      <td>9</td>\n",
       "      <td>1013</td>\n",
       "      <td>20</td>\n",
       "      <td>73</td>\n",
       "      <td>24</td>\n",
       "      <td>79</td>\n",
       "      <td>80</td>\n",
       "      <td>1.0</td>\n",
       "      <td>30.801378</td>\n",
       "    </tr>\n",
       "    <tr>\n",
       "      <th>1840265</th>\n",
       "      <td>2017</td>\n",
       "      <td>9</td>\n",
       "      <td>9</td>\n",
       "      <td>4</td>\n",
       "      <td>22</td>\n",
       "      <td>2240.0</td>\n",
       "      <td>1.0</td>\n",
       "      <td>2140</td>\n",
       "      <td>60.0</td>\n",
       "      <td>1.0</td>\n",
       "      <td>...</td>\n",
       "      <td>0.0</td>\n",
       "      <td>9</td>\n",
       "      <td>1013</td>\n",
       "      <td>19</td>\n",
       "      <td>73</td>\n",
       "      <td>23</td>\n",
       "      <td>78</td>\n",
       "      <td>84</td>\n",
       "      <td>1.0</td>\n",
       "      <td>50.979843</td>\n",
       "    </tr>\n",
       "    <tr>\n",
       "      <th>1840271</th>\n",
       "      <td>2017</td>\n",
       "      <td>9</td>\n",
       "      <td>9</td>\n",
       "      <td>6</td>\n",
       "      <td>24</td>\n",
       "      <td>1948.0</td>\n",
       "      <td>0.0</td>\n",
       "      <td>1954</td>\n",
       "      <td>0.0</td>\n",
       "      <td>1.0</td>\n",
       "      <td>...</td>\n",
       "      <td>0.0</td>\n",
       "      <td>10</td>\n",
       "      <td>1012</td>\n",
       "      <td>14</td>\n",
       "      <td>71</td>\n",
       "      <td>19</td>\n",
       "      <td>82</td>\n",
       "      <td>71</td>\n",
       "      <td>1.0</td>\n",
       "      <td>30.965372</td>\n",
       "    </tr>\n",
       "    <tr>\n",
       "      <th>1840272</th>\n",
       "      <td>2017</td>\n",
       "      <td>9</td>\n",
       "      <td>9</td>\n",
       "      <td>4</td>\n",
       "      <td>24</td>\n",
       "      <td>2224.0</td>\n",
       "      <td>1.0</td>\n",
       "      <td>2140</td>\n",
       "      <td>44.0</td>\n",
       "      <td>1.0</td>\n",
       "      <td>...</td>\n",
       "      <td>0.0</td>\n",
       "      <td>10</td>\n",
       "      <td>1012</td>\n",
       "      <td>0</td>\n",
       "      <td>72</td>\n",
       "      <td>18</td>\n",
       "      <td>81</td>\n",
       "      <td>75</td>\n",
       "      <td>1.0</td>\n",
       "      <td>34.554756</td>\n",
       "    </tr>\n",
       "  </tbody>\n",
       "</table>\n",
       "<p>368711 rows × 24 columns</p>\n",
       "</div>"
      ],
      "text/plain": [
       "         Year  Month  Origin  Dest  DayofMonth  DepTime  DepDel15  CRSDepTime  \\\n",
       "1        2016      1      13    14           1    759.0       1.0         724   \n",
       "9        2016      1      13     7           1    745.0       1.0         705   \n",
       "13       2016      1      13     8           2    720.0       1.0         655   \n",
       "14       2016      1      13     8           2    730.0       0.0         730   \n",
       "17       2016      1      13     0           2    745.0       0.0         745   \n",
       "...       ...    ...     ...   ...         ...      ...       ...         ...   \n",
       "1840262  2017      9       6     8          21   2358.0       1.0        2245   \n",
       "1840264  2017      9       9     6          22   2021.0       1.0        1954   \n",
       "1840265  2017      9       9     4          22   2240.0       1.0        2140   \n",
       "1840271  2017      9       9     6          24   1948.0       0.0        1954   \n",
       "1840272  2017      9       9     4          24   2224.0       1.0        2140   \n",
       "\n",
       "         DepDelayMinutes  ArrDel15  ...  precipMM  visibility  pressure  \\\n",
       "1                   35.0       1.0  ...       0.0          10      1030   \n",
       "9                   40.0       1.0  ...       0.0          10      1030   \n",
       "13                  25.0       1.0  ...       0.0          10      1024   \n",
       "14                   0.0       1.0  ...       0.0          10      1024   \n",
       "17                   0.0       1.0  ...       0.0          10      1024   \n",
       "...                  ...       ...  ...       ...         ...       ...   \n",
       "1840262             73.0       1.0  ...       0.0          10      1015   \n",
       "1840264             27.0       1.0  ...       0.6           9      1013   \n",
       "1840265             60.0       1.0  ...       0.0           9      1013   \n",
       "1840271              0.0       1.0  ...       0.0          10      1012   \n",
       "1840272             44.0       1.0  ...       0.0          10      1012   \n",
       "\n",
       "         cloudcover  DewPointF  WindGustKmph  tempF  humidity  y_pred  \\\n",
       "1                 0         23             8     34        66     1.0   \n",
       "9                 0         23             8     34        66     1.0   \n",
       "13                0         24             8     36        64     1.0   \n",
       "14                0         24             8     36        64     1.0   \n",
       "17                0         24             8     36        64     1.0   \n",
       "...             ...        ...           ...    ...       ...     ...   \n",
       "1840262          96         64            26     72        75     1.0   \n",
       "1840264          20         73            24     79        80     1.0   \n",
       "1840265          19         73            23     78        84     1.0   \n",
       "1840271          14         71            19     82        71     1.0   \n",
       "1840272           0         72            18     81        75     1.0   \n",
       "\n",
       "         ArrDelayMinutes (Predicted)  \n",
       "1                          33.487461  \n",
       "9                          36.690868  \n",
       "13                         32.461235  \n",
       "14                         28.116556  \n",
       "17                         24.995829  \n",
       "...                              ...  \n",
       "1840262                    62.042576  \n",
       "1840264                    30.801378  \n",
       "1840265                    50.979843  \n",
       "1840271                    30.965372  \n",
       "1840272                    34.554756  \n",
       "\n",
       "[368711 rows x 24 columns]"
      ]
     },
     "execution_count": 23,
     "metadata": {},
     "output_type": "execute_result"
    }
   ],
   "source": [
    "result"
   ]
  },
  {
   "cell_type": "markdown",
   "id": "6d0d1cc8",
   "metadata": {},
   "source": [
    "##### Regression Results Analysis"
   ]
  },
  {
   "cell_type": "code",
   "execution_count": 24,
   "id": "4a947f05",
   "metadata": {},
   "outputs": [
    {
     "data": {
      "text/plain": [
       "1          24.0\n",
       "9          37.0\n",
       "13         46.0\n",
       "14         21.0\n",
       "17         22.0\n",
       "           ... \n",
       "1840262    51.0\n",
       "1840264    18.0\n",
       "1840265    57.0\n",
       "1840271    38.0\n",
       "1840272    44.0\n",
       "Name: ArrDelayMinutes, Length: 368711, dtype: float64"
      ]
     },
     "execution_count": 24,
     "metadata": {},
     "output_type": "execute_result"
    }
   ],
   "source": [
    "from sklearn.metrics import r2_score, mean_absolute_error, mean_squared_error, accuracy_score\n",
    "result['ArrDelayMinutes']"
   ]
  },
  {
   "cell_type": "code",
   "execution_count": 25,
   "id": "500330ae",
   "metadata": {
    "scrolled": true
   },
   "outputs": [
    {
     "name": "stdout",
     "output_type": "stream",
     "text": [
      "MAE:  9.969403665476527\n",
      "MSE:  173.96946757787543\n",
      "RMSE:  13.189748579024371\n",
      "R-Squared:  0.6452788471150006\n"
     ]
    },
    {
     "data": {
      "text/plain": [
       "(305632, 24)"
      ]
     },
     "execution_count": 25,
     "metadata": {},
     "output_type": "execute_result"
    }
   ],
   "source": [
    "#15 - 100\n",
    "r1 = result[(result['ArrDelayMinutes'] >= 15) & (result['ArrDelayMinutes'] <= 100)]\n",
    "mae = mean_absolute_error(r1['ArrDelayMinutes'], r1['ArrDelayMinutes (Predicted)'])\n",
    "mse = mean_squared_error(r1['ArrDelayMinutes'], r1['ArrDelayMinutes (Predicted)'])\n",
    "rmse = mse ** 0.5  \n",
    "r2 = r2_score(r1['ArrDelayMinutes'], r1['ArrDelayMinutes (Predicted)'])\n",
    "\n",
    "print(\"MAE: \", mae)\n",
    "print(\"MSE: \", mse)\n",
    "print(\"RMSE: \", rmse)\n",
    "print(\"R-Squared: \", r2)\n",
    "\n",
    "\n",
    "r1.shape"
   ]
  },
  {
   "cell_type": "code",
   "execution_count": 26,
   "id": "9ab16d68",
   "metadata": {},
   "outputs": [
    {
     "name": "stdout",
     "output_type": "stream",
     "text": [
      "MAE:  16.687774978729184\n",
      "MSE:  628.6567379280857\n",
      "RMSE:  25.073028096504135\n",
      "R-Squared:  0.15534577457262966\n"
     ]
    },
    {
     "data": {
      "text/plain": [
       "(48867, 24)"
      ]
     },
     "execution_count": 26,
     "metadata": {},
     "output_type": "execute_result"
    }
   ],
   "source": [
    "#100 - 200\n",
    "r1 = result[(result['ArrDelayMinutes'] >= 100) & (result['ArrDelayMinutes'] <= 200)]\n",
    "mae = mean_absolute_error(r1['ArrDelayMinutes'], r1['ArrDelayMinutes (Predicted)'])\n",
    "mse = mean_squared_error(r1['ArrDelayMinutes'], r1['ArrDelayMinutes (Predicted)'])\n",
    "rmse = mse ** 0.5  \n",
    "r2 = r2_score(r1['ArrDelayMinutes'], r1['ArrDelayMinutes (Predicted)'])\n",
    "\n",
    "print(\"MAE: \", mae)\n",
    "print(\"MSE: \", mse)\n",
    "print(\"RMSE: \", rmse)\n",
    "print(\"R-Squared: \", r2)\n",
    "r1.shape"
   ]
  },
  {
   "cell_type": "code",
   "execution_count": 27,
   "id": "062a41de",
   "metadata": {},
   "outputs": [
    {
     "name": "stdout",
     "output_type": "stream",
     "text": [
      "MAE:  17.155694847674283\n",
      "MSE:  756.0141078055251\n",
      "RMSE:  27.49571071650131\n",
      "R-Squared:  0.8271231487171428\n"
     ]
    },
    {
     "data": {
      "text/plain": [
       "(14187, 24)"
      ]
     },
     "execution_count": 27,
     "metadata": {},
     "output_type": "execute_result"
    }
   ],
   "source": [
    "#200 - 500\n",
    "r1 = result[(result['ArrDelayMinutes'] >= 200) & (result['ArrDelayMinutes'] <= 500)]\n",
    "mae = mean_absolute_error(r1['ArrDelayMinutes'], r1['ArrDelayMinutes (Predicted)'])\n",
    "mse = mean_squared_error(r1['ArrDelayMinutes'], r1['ArrDelayMinutes (Predicted)'])\n",
    "rmse = mse ** 0.5  \n",
    "r2 = r2_score(r1['ArrDelayMinutes'], r1['ArrDelayMinutes (Predicted)'])\n",
    "\n",
    "print(\"MAE: \", mae)\n",
    "print(\"MSE: \", mse)\n",
    "print(\"RMSE: \", rmse)\n",
    "print(\"R-Squared: \", r2)\n",
    "r1.shape"
   ]
  },
  {
   "cell_type": "code",
   "execution_count": 28,
   "id": "4c311c89",
   "metadata": {},
   "outputs": [
    {
     "name": "stdout",
     "output_type": "stream",
     "text": [
      "MAE:  14.085746627917393\n",
      "MSE:  444.2322071078242\n",
      "RMSE:  21.076816816298997\n",
      "R-Squared:  0.9775580913383243\n"
     ]
    },
    {
     "data": {
      "text/plain": [
       "(1112, 24)"
      ]
     },
     "execution_count": 28,
     "metadata": {},
     "output_type": "execute_result"
    }
   ],
   "source": [
    "#500 - 1000\n",
    "r1 = result[(result['ArrDelayMinutes'] >= 500) & (result['ArrDelayMinutes'] <= 1000)]\n",
    "mae = mean_absolute_error(r1['ArrDelayMinutes'], r1['ArrDelayMinutes (Predicted)'])\n",
    "mse = mean_squared_error(r1['ArrDelayMinutes'], r1['ArrDelayMinutes (Predicted)'])\n",
    "rmse = mse ** 0.5  \n",
    "r2 = r2_score(r1['ArrDelayMinutes'], r1['ArrDelayMinutes (Predicted)'])\n",
    "\n",
    "print(\"MAE: \", mae)\n",
    "print(\"MSE: \", mse)\n",
    "print(\"RMSE: \", rmse)\n",
    "print(\"R-Squared: \", r2)\n",
    "r1.shape"
   ]
  },
  {
   "cell_type": "code",
   "execution_count": 29,
   "id": "5f21000b",
   "metadata": {},
   "outputs": [
    {
     "name": "stdout",
     "output_type": "stream",
     "text": [
      "MAE:  14.78311421829841\n",
      "MSE:  428.73953734536394\n",
      "RMSE:  20.706026594819296\n",
      "R-Squared:  0.9842589345348894\n"
     ]
    },
    {
     "data": {
      "text/plain": [
       "(173, 24)"
      ]
     },
     "execution_count": 29,
     "metadata": {},
     "output_type": "execute_result"
    }
   ],
   "source": [
    "#1000 - 2000\n",
    "r1 = result[(result['ArrDelayMinutes'] >= 1000) & (result['ArrDelayMinutes'] <= 2000)]\n",
    "mae = mean_absolute_error(r1['ArrDelayMinutes'], r1['ArrDelayMinutes (Predicted)'])\n",
    "mse = mean_squared_error(r1['ArrDelayMinutes'], r1['ArrDelayMinutes (Predicted)'])\n",
    "rmse = mse ** 0.5  \n",
    "r2 = r2_score(r1['ArrDelayMinutes'], r1['ArrDelayMinutes (Predicted)'])\n",
    "\n",
    "print(\"MAE: \", mae)\n",
    "print(\"MSE: \", mse)\n",
    "print(\"RMSE: \", rmse)\n",
    "print(\"R-Squared: \", r2)\n",
    "r1.shape"
   ]
  },
  {
   "cell_type": "code",
   "execution_count": 30,
   "id": "68a93766",
   "metadata": {},
   "outputs": [],
   "source": [
    "new = pd.read_csv('merged.csv')"
   ]
  },
  {
   "cell_type": "code",
   "execution_count": 31,
   "id": "ba3c528b",
   "metadata": {},
   "outputs": [
    {
     "data": {
      "text/plain": [
       "(1840274, 34)"
      ]
     },
     "execution_count": 31,
     "metadata": {},
     "output_type": "execute_result"
    }
   ],
   "source": [
    "new.shape"
   ]
  }
 ],
 "metadata": {
  "kernelspec": {
   "display_name": "Python 3 (ipykernel)",
   "language": "python",
   "name": "python3"
  },
  "language_info": {
   "codemirror_mode": {
    "name": "ipython",
    "version": 3
   },
   "file_extension": ".py",
   "mimetype": "text/x-python",
   "name": "python",
   "nbconvert_exporter": "python",
   "pygments_lexer": "ipython3",
   "version": "3.9.12"
  }
 },
 "nbformat": 4,
 "nbformat_minor": 5
}
